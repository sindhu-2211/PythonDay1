{
 "cells": [
  {
   "cell_type": "markdown",
   "id": "238d50f6-3b48-40a6-8d1f-965bf6c1bd96",
   "metadata": {},
   "source": [
    "#### 1. What exactly is []?\n",
    "\n",
    "`[]` is an empty list. Lists are mutable collections in Python that can hold a sequence of items. \n",
    "An empty list contains no elements."
   ]
  },
  {
   "cell_type": "markdown",
   "id": "608d7999-9669-4613-8be1-968ea0e27fa3",
   "metadata": {},
   "source": [
    "#### 2. How would you assign the value hello as the third value in `spam`?\n",
    "\n",
    "To assign hello as the third value in the list spam:\n",
    "\n",
    "```python\n",
    "spam[2] = hello\n",
    "```\n",
    "\n",
    "Assume `spam` contains `[2, 4, 6, 8, 10]`. After the operation, `spam` will be `[2, 4, hello, 8, 10]`."
   ]
  },
  {
   "cell_type": "markdown",
   "id": "1fa8f7ae-bdde-4300-96ee-474279496787",
   "metadata": {},
   "source": [
    "#### 3. What is the value of spam[int(int(3 * 2) / 11)]?\n",
    "\n",
    "Assuming `spam = [a, b, c, d]`:\n",
    "\n",
    "- 3 * 2 evaluates to 33.\n",
    "- int(33) converts 33 to the integer 33.\n",
    "- 33 / 11 equals 3.0.\n",
    "- int(3.0) equals 3.\n",
    "\n",
    "spam[3] is d.\n",
    "\n",
    "**Value**: `d'"
   ]
  },
  {
   "cell_type": "markdown",
   "id": "b8ba237d-b354-465a-ab77-f0c6e58f07bb",
   "metadata": {},
   "source": [
    "#### 4. What is the value of spam[-1]?\n",
    "\n",
    "Using the same list spam = [a, b, c, d], spam[-1] refers to the last element of the list.\n",
    "\n",
    "**Value**: `d`"
   ]
  },
  {
   "cell_type": "markdown",
   "id": "3d6b52ef-ea73-4fc8-babf-9ecb2d35cc2d",
   "metadata": {},
   "source": [
    "#### 5. What is the value of spam[:2]?\n",
    "\n",
    "spam[:2] retrieves a slice of the list from the start up to, but not including, index 2.\n",
    "\n",
    "**Value**: `[a, b]`"
   ]
  },
  {
   "cell_type": "markdown",
   "id": "50249380-1ff0-4f35-825d-d78955b36ca3",
   "metadata": {},
   "source": [
    "#### 6. What is the value of bacon.index(cat)?\n",
    "\n",
    "If bacon = [3.14, cat, 11, cat, True]:\n",
    "\n",
    "The index() method returns the index of the first occurrence of cat.\n",
    "\n",
    "**Value**: `1`"
   ]
  },
  {
   "cell_type": "markdown",
   "id": "ac2a78b8-87f3-4ac6-9145-c6c214729a3e",
   "metadata": {},
   "source": [
    "#### 7. How does bacon.append(99) change the list?\n",
    "\n",
    "The append() method adds the value 99 to the end of the list.\n",
    "\n",
    "Before: [3.14, cat, 11, cat, True]\n",
    "\n",
    "After: [3.14, cat, 11, cat, True, 99]"
   ]
  },
  {
   "cell_type": "markdown",
   "id": "88a598ec-6d5c-4c97-917f-f5c9b9ec9c6c",
   "metadata": {},
   "source": [
    "#### 8. How does bacon.remove(cat) change the list?\n",
    "\n",
    "The remove() method removes the first occurrence of cat.\n",
    "\n",
    "Before: [3.14, cat, 11, cat, True]\n",
    "\n",
    "After: [3.14, 11, cat, True]\n"
   ]
  },
  {
   "cell_type": "markdown",
   "id": "82f58b57-bb25-4b05-9695-4796c036f5bc",
   "metadata": {},
   "source": [
    "#### 9. What are the list concatenation and list replication operators?\n",
    "\n",
    "- **Concatenation**: + operator combines two lists.\n",
    "  ```python\n",
    "  [1, 2] + [3, 4]  # Output: [1, 2, 3, 4]\n",
    "  ```\n",
    "- **Replication**: `*` operator repeats the list a specified number of times.\n",
    "  ```python\n",
    "  [1, 2] * 3  # Output: [1, 2, 1, 2, 1, 2]"
   ]
  },
  {
   "cell_type": "markdown",
   "id": "8334b475-9040-430a-ac5b-d61700a204ce",
   "metadata": {},
   "source": [
    "#### 10. What is the difference between append() and insert()?\n",
    "\n",
    "- **append()**: Adds an item to the end of the list.\n",
    "  ```python\n",
    "  my_list.append(5)\n",
    "  ```\n",
    "- **insert()**: Adds an item at a specified index.\n",
    "  ```python\n",
    "  my_list.insert(2, hello)\n",
    "  ```\n",
    "\n"
   ]
  },
  {
   "cell_type": "markdown",
   "id": "44cb5122-f66f-43f0-934f-d6758c0bdad5",
   "metadata": {},
   "source": [
    "\n",
    "#### 11. What are the two methods for removing items from a list?\n",
    "\n",
    "1. **remove(value)**: Removes the first occurrence of a value.\n",
    "2. **pop(index)**: Removes and returns the element at the specified index (default is the last element).\n",
    "\n",
    "\n"
   ]
  },
  {
   "cell_type": "markdown",
   "id": "c3426967-6aa4-41df-9229-ffed43d8d2af",
   "metadata": {},
   "source": [
    "#### 12. Describe how list values and string values are identical.\n",
    "\n",
    "- Both are sequences that can be indexed and sliced.\n",
    "- Both support iteration.\n",
    "- Both can use operators like `+` (concatenation) and `*` (replication).\n",
    "\n",
    "**Example**:\n",
    "```python\n",
    "list_example = [1, 2, 3]\n",
    "string_example = \"abc\"\n",
    "print(list_example[0])  # Output: 1\n",
    "print(string_example[0])  # Output: a\n",
    "```"
   ]
  },
  {
   "cell_type": "markdown",
   "id": "fa2aa17c-f3ed-486c-9721-34fe908127ca",
   "metadata": {},
   "source": [
    "#### 13. Whats the difference between tuples and lists?\n",
    "\n",
    "- **Lists**: Mutable, can be changed after creation.\n",
    "- **Tuples**: Immutable, cannot be changed after creation.\n",
    "\n",
    "**Example**:\n",
    "```python\n",
    "my_list = [1, 2, 3]\n",
    "my_tuple = (1, 2, 3)\n",
    "my_list[0] = 4  # Allowed\n",
    "my_tuple[0] = 4  # Error\n",
    "```"
   ]
  },
  {
   "cell_type": "markdown",
   "id": "086bed50-66da-41f2-8534-e3db72a04b33",
   "metadata": {},
   "source": [
    "#### 14. How do you type a tuple value that only contains the integer 42?\n",
    "\n",
    "Use a trailing comma to differentiate it from a regular parentheses.\n",
    "\n",
    "```python\n",
    "single_item_tuple = (42,)\n",
    "```"
   ]
  },
  {
   "cell_type": "markdown",
   "id": "06c388ed-cafe-4a00-86c4-3787ef70f015",
   "metadata": {},
   "source": [
    "#### 15. How do you get a list values tuple form? How do you get a tuple value's list form?\n",
    "\n",
    "- Convert list to tuple: tuple(list_value)\n",
    "- Convert tuple to list: list(tuple_value)\n",
    "\n",
    "**Example**:\n",
    "```python\n",
    "my_list = [1, 2, 3]\n",
    "my_tuple = tuple(my_list)  # Output: (1, 2, 3)\n",
    "\n",
    "my_tuple = (1, 2, 3)\n",
    "my_list = list(my_tuple)  # Output: [1, 2, 3]\n",
    "```\n"
   ]
  },
  {
   "cell_type": "markdown",
   "id": "5ad453ab-9493-4979-bbd1-56e92994248e",
   "metadata": {},
   "source": [
    "#### 16. Variables that \"contain\" list values are not necessarily lists themselves. Instead, what do they contain?\n",
    "\n",
    "They contain **references** to the list values in memory.\n"
   ]
  },
  {
   "cell_type": "markdown",
   "id": "e86c48d3-f8bd-4b79-83a0-e4c3c2152c7a",
   "metadata": {},
   "source": [
    "#### 17. How do you distinguish between `copy.copy()` and `copy.deepcopy()`?\n",
    "\n",
    "- **`copy.copy()`**: Creates a shallow copy (only the top-level object is copied; nested objects are shared).\n",
    "- **`copy.deepcopy()`**: Creates a deep copy (copies the top-level object and all nested objects).\n",
    "\n",
    "**Example**:\n",
    "```python\n",
    "import copy\n",
    "original = [[1, 2], [3, 4]]\n",
    "shallow = copy.copy(original)\n",
    "deep = copy.deepcopy(original)\n",
    "original[0][0] = 99\n",
    "print(shallow)  # [[99, 2], [3, 4]]\n",
    "print(deep)     # [[1, 2], [3, 4]]\n"
   ]
  },
  {
   "cell_type": "code",
   "execution_count": null,
   "id": "f77bd22a-a31c-4645-8733-b71671a698b2",
   "metadata": {},
   "outputs": [],
   "source": []
  }
 ],
 "metadata": {
  "kernelspec": {
   "display_name": "Python 3 (ipykernel)",
   "language": "python",
   "name": "python3"
  },
  "language_info": {
   "codemirror_mode": {
    "name": "ipython",
    "version": 3
   },
   "file_extension": ".py",
   "mimetype": "text/x-python",
   "name": "python",
   "nbconvert_exporter": "python",
   "pygments_lexer": "ipython3",
   "version": "3.12.4"
  }
 },
 "nbformat": 4,
 "nbformat_minor": 5
}
