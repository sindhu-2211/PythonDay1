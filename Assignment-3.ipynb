{
 "cells": [
  {
   "cell_type": "markdown",
   "id": "346104af-7267-4440-932f-afcc3b759185",
   "metadata": {},
   "source": [
    "#### 1. Why are functions advantageous to have in your programs?\n",
    "Functions are advantageous because they:\n",
    "- Allow code reuse, reducing redundancy.\n",
    "- Make programs easier to read and maintain.\n",
    "- Enable modular design, dividing a program into smaller, manageable parts.\n",
    "- Allow for easier debugging and testing of individual components.\n",
    "- Facilitate abstraction by hiding complex logic behind a simple interface."
   ]
  },
  {
   "cell_type": "markdown",
   "id": "4cf12c9a-3b8a-432f-9fd6-ea7e819cb046",
   "metadata": {},
   "source": [
    "#### 2. When does the code in a function run: when it's specified or when it's called?\n",
    "The code inside a function runs **only when the function is called**, not when it is defined. Defining a function specifies its behavior but does not execute it.\n"
   ]
  },
  {
   "cell_type": "markdown",
   "id": "26b0d380-d19f-4e29-b52d-99de6672147a",
   "metadata": {},
   "source": [
    "#### 3. What statement creates a function?\n",
    "The `def` statement is used to create a function in Python. For example:\n",
    "```python\n",
    "def my_function():\n",
    "    print(\"Hello, World!\")\n",
    "```\n",
    "This defines a function named `my_function`."
   ]
  },
  {
   "cell_type": "markdown",
   "id": "d92c724a-515d-463c-8f74-6f0356fbbf35",
   "metadata": {},
   "source": [
    "#### 4. What is the difference between a function and a function call?\n",
    "- A **function** is the block of code that is defined using the `def` keyword.\n",
    "- A **function call** is the execution of the function using its name followed by parentheses. For example:\n",
    "  ```python\n",
    "  def greet():\n",
    "      print(\"Hello\")\n",
    "\n",
    "  greet()  # This is the function call"
   ]
  },
  {
   "cell_type": "markdown",
   "id": "489a3618-0641-4d57-832a-d1b3491acbf5",
   "metadata": {},
   "source": [
    "#### 5. How many global scopes are there in a Python program? How many local scopes?\n",
    "- There is **one global scope** in a Python program, which exists throughout the program's execution.\n",
    "- Each function call creates its own **local scope**, so the number of local scopes depends on how many functions are executed."
   ]
  },
  {
   "cell_type": "markdown",
   "id": "09a98de9-a149-4a75-b48f-d155837268ef",
   "metadata": {},
   "source": [
    "#### 6. What happens to variables in a local scope when the function call returns?\n",
    "Variables in a local scope are **destroyed** when the function call returns. The local scope is temporary and exists only during the execution \n",
    "of the function.\n"
   ]
  },
  {
   "cell_type": "markdown",
   "id": "5ff9541f-6743-4ccd-ac8c-ffe9cfeb8efe",
   "metadata": {},
   "source": [
    "#### 7. What is the concept of a return value? Is it possible to have a return value in an expression?\n",
    "- A **return value** is the result produced by a function and sent back to the caller using the `return` statement.\n",
    "- Yes, it is possible to use a return value in an expression. For example:\n",
    "  ```python\n",
    "  def add(a, b):\n",
    "      return a + b\n",
    "\n",
    "  result = add(2, 3) * 2  # Using the return value in an expression\n",
    "  ```\n",
    "\n",
    "---"
   ]
  },
  {
   "cell_type": "markdown",
   "id": "05ee76ac-63f1-4927-a6c6-a4d1b3c62a43",
   "metadata": {},
   "source": [
    "#### 8. If a function does not have a return statement, what is the return value of a call to that function?\n",
    "If a function does not have a `return` statement, its return value is `None`.\n",
    "Example:\n",
    "```python\n",
    "def my_function():\n",
    "    pass\n",
    "\n",
    "print(my_function())  # Outputs: None\n",
    "```"
   ]
  },
  {
   "cell_type": "markdown",
   "id": "a99283f9-897c-4bf5-a1b5-38de37689796",
   "metadata": {},
   "source": [
    "#### 9. How do you make a function variable refer to the global variable?\n",
    "To refer to a global variable inside a function, use the `global` keyword. For example:\n",
    "```python\n",
    "global_var = 10\n",
    "\n",
    "def modify_global():\n",
    "    global global_var\n",
    "    global_var = 20"
   ]
  },
  {
   "cell_type": "markdown",
   "id": "416a50e7-bbd3-4b6c-bb46-de0f4a0fcbe8",
   "metadata": {},
   "source": [
    "#### 10. What is the data type of None?\n",
    "The data type of `None` is `NoneType`.\n",
    "Example:\n",
    "```python\n",
    "print(type(None))  # Outputs: <class 'NoneType'>"
   ]
  },
  {
   "cell_type": "markdown",
   "id": "d9dd8337-0390-4185-95aa-630e97bc6126",
   "metadata": {},
   "source": [
    "#### 11. What does the sentence import areallyourpetsnamederic do?\n",
    "This statement tries to import a module named areallyourpetsnamederic. If such a module does not exist, Python raises a ModuleNotFoundError.\n"
   ]
  },
  {
   "cell_type": "markdown",
   "id": "ece56ccd-ba54-4b55-8a79-954a38014b95",
   "metadata": {},
   "source": [
    "#### 12. If you had a bacon() feature in a spam module, what would you call it after importing spam?\n",
    "You would call it as:\n",
    "```python\n",
    "spam.bacon()"
   ]
  },
  {
   "cell_type": "markdown",
   "id": "764a8405-6f3c-490e-a15b-956619dcecca",
   "metadata": {},
   "source": [
    "#### 13. What can you do to save a program from crashing if it encounters an error?\n",
    "Use error handling techniques such as try and except blocks to catch and handle exceptions gracefully. Example:\n",
    "```python\n",
    "try:\n",
    "    result = 10 / 0\n",
    "except ZeroDivisionError:\n",
    "    print(\"Division by zero is not allowed.\")"
   ]
  },
  {
   "cell_type": "markdown",
   "id": "b5bd5ec8-116a-4af6-b200-e268362f7759",
   "metadata": {},
   "source": [
    "#### 14. What is the purpose of the try clause? What is the purpose of the except clause?\n",
    "- The **try clause** contains the code that might raise an exception.\n",
    "- The **except clause** defines how to handle the exception if one occurs.\n",
    "Example:\n",
    "```python\n",
    "try:\n",
    "    num = int(\"abc\")\n",
    "except ValueError:\n",
    "    print(\"Invalid input, please enter a number.\")"
   ]
  }
 ],
 "metadata": {
  "kernelspec": {
   "display_name": "Python 3 (ipykernel)",
   "language": "python",
   "name": "python3"
  },
  "language_info": {
   "codemirror_mode": {
    "name": "ipython",
    "version": 3
   },
   "file_extension": ".py",
   "mimetype": "text/x-python",
   "name": "python",
   "nbconvert_exporter": "python",
   "pygments_lexer": "ipython3",
   "version": "3.12.4"
  }
 },
 "nbformat": 4,
 "nbformat_minor": 5
}
