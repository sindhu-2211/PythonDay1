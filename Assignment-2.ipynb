{
 "cells": [
  {
   "cell_type": "markdown",
   "id": "e3e4b27b-d297-45ce-9979-5d3095bb7229",
   "metadata": {},
   "source": [
    "### 1. What are the two values of the Boolean data type? How do you write them?\n",
    "\n",
    "The two values of the Boolean data type are:\n",
    "\n",
    "1. `True`\n",
    "2. `False`\n",
    "\n",
    "These values are written with an uppercase first letter in Python.\n"
   ]
  },
  {
   "cell_type": "markdown",
   "id": "01981ea9-fca8-438c-9c7a-7543450b3917",
   "metadata": {},
   "source": [
    "## 2. What are the three different types of Boolean operators?\n",
    "\n",
    "### Explanation:\n",
    "Boolean operators are used to perform logical operations. The three primary Boolean operators are:\n",
    "1. **AND**: Returns `True` if both conditions are `True`.\n",
    "2. **OR**: Returns `True` if at least one condition is `True`.\n",
    "3. **NOT**: Negates the value of a Boolean expression (i.e., `True` becomes `False` and vice versa).\n"
   ]
  },
  {
   "cell_type": "markdown",
   "id": "ff45cc92-0bd6-4285-b0fd-a9ea28f20553",
   "metadata": {},
   "source": [
    "## 3. Make a list of each Boolean operator's truth tables\n",
    "\n",
    "### Explanation:\n",
    "The truth tables show all possible combinations of Boolean values and the resulting output for each operator.\n",
    "\n",
    "### AND Truth Table:\n",
    "| A     | B     | A AND B |\n",
    "|-------|-------|---------|\n",
    "| True  | True  | True    |\n",
    "| True  | False | False   |\n",
    "| False | True  | False   |\n",
    "| False | False | False   |\n",
    "\n",
    "### OR Truth Table:\n",
    "| A     | B     | A OR B  |\n",
    "|-------|-------|---------|\n",
    "| True  | True  | True    |\n",
    "| True  | False | True    |\n",
    "| False | True  | True    |\n",
    "| False | False | False   |\n",
    "\n",
    "### NOT Truth Table:\n",
    "| A     | NOT A |\n",
    "|-------|-------|\n",
    "| True  | False |\n",
    "| False | True  |\n"
   ]
  },
  {
   "cell_type": "markdown",
   "id": "d6ce87fa-ce57-479b-b9e9-53823b0cf20a",
   "metadata": {},
   "source": [
    "## 4. What are the values of the following expressions?\n",
    "\n",
    "### Explanation:\n",
    "We evaluate the Boolean expressions step by step.\n",
    "\n",
    "1. **(5 > 4) and (3 == 5)**: \n",
    "   - `(5 > 4)` is `True`.\n",
    "   - `(3 == 5)` is `False`.\n",
    "   - `True and False` evaluates to `False`.\n",
    "   \n",
    "2. **not (5 > 4)**: \n",
    "   - `(5 > 4)` is `True`.\n",
    "   - `not True` evaluates to `False`.\n",
    "   \n",
    "3. **(5 > 4) or (3 == 5)**:\n",
    "   - `(5 > 4)` is `True`.\n",
    "   - `(3 == 5)` is `False`.\n",
    "   - `True or False` evaluates to `True`.\n",
    "\n",
    "4. **not ((5 > 4) or (3 == 5))**:\n",
    "   - `(5 > 4)` is `True`, `(3 == 5)` is `False`.\n",
    "   - `(True or False)` is `True`.\n",
    "   - `not True` evaluates to `False`.\n",
    "\n",
    "5. **(True and True) and (True == False)**:\n",
    "   - `True and True` is `True`.\n",
    "   - `(True == False)` is `False`.\n",
    "   - `True and False` evaluates to `False`.\n",
    "\n",
    "6. **(not False) or (not True)**:\n",
    "   - `not False` is `True`.\n",
    "   - `not True` is `False`.\n",
    "   - `True or False` evaluates to `True`."
   ]
  },
  {
   "cell_type": "markdown",
   "id": "ac0f527a-fa37-431a-b315-ef083a019a00",
   "metadata": {},
   "source": [
    "## 5. What are the six comparison operators?\n",
    "\n",
    "### Explanation:\n",
    "Comparison operators are used to compare two values. The six comparison operators are:\n",
    "1. `==` (Equal to)\n",
    "2. `!=` (Not equal to)\n",
    "3. `>` (Greater than)\n",
    "4. `<` (Less than)\n",
    "5. `>=` (Greater than or equal to)\n",
    "6. `<=` (Less than or equal to)"
   ]
  },
  {
   "cell_type": "markdown",
   "id": "93eeb14e-35be-446d-a9bf-497464dbaf04",
   "metadata": {},
   "source": [
    "## 6. How do you tell the difference between the equal to and assignment operators?\n",
    "\n",
    "### Explanation:\n",
    "- The **equal to (`==`)** operator checks if two values are equal.\n",
    "  - Example: `if x == 10:` checks if `x` equals 10.\n",
    "- The **assignment operator (`=`)** assigns a value to a variable.\n",
    "  - Example: `x = 10` assigns 10 to the variable `x`.\n",
    "\n",
    "### Use Case:\n",
    "- Use `=` when assigning a value, e.g., `x = 5`.\n",
    "- Use `==` in conditions, e.g., `if x == 5:`.\n"
   ]
  },
  {
   "cell_type": "markdown",
   "id": "fdc5a294-a2e4-42fa-972b-1d2377b4fe84",
   "metadata": {},
   "source": [
    "## 7. Identify the three blocks in this code\n",
    "\n",
    "```python\n",
    "spam = 0\n",
    "if spam == 10:\n",
    "    print('eggs')\n",
    "if spam > 5:\n",
    "    print('bacon')\n",
    "else:\n",
    "    print('ham')\n",
    "print('spam')\n",
    "print('spam')\n",
    "```\n",
    "\n",
    "### Explanation:\n",
    "The three blocks are:\n",
    "1. The `if spam == 10:` block (contains `print('eggs')`).\n",
    "2. The `if spam > 5:` block (contains `print('bacon')`).\n",
    "3. The `else:` block (contains `print('ham')`)."
   ]
  },
  {
   "cell_type": "markdown",
   "id": "d10a7936-723a-4562-a642-e1948500db6a",
   "metadata": {},
   "source": [
    "## 8. Write code to print different greetings based on the value of `spam`\n",
    "\n",
    "### Code:\n",
    "```python\n",
    "spam = int(input(\"Enter value for spam: \"))\n",
    "if spam == 1:\n",
    "    print(\"Hello\")\n",
    "elif spam == 2:\n",
    "    print(\"Howdy\")\n",
    "else:\n",
    "    print(\"Greetings!\")"
   ]
  },
  {
   "cell_type": "markdown",
   "id": "2e652e90-a8f5-4059-9b0e-bcd7441fae44",
   "metadata": {},
   "source": [
    "## 9. If your program is stuck in an endless loop, what keys will you press?\n",
    "\n",
    "### Answer:\n",
    "Press `Ctrl + C` to interrupt the program and exit the loop."
   ]
  },
  {
   "cell_type": "markdown",
   "id": "701e62c9-c085-4bd2-a901-cc4989c32489",
   "metadata": {},
   "source": [
    "## 11. Difference between `range(10)`, `range(0, 10)`, and `range(0, 10, 1)`\n",
    "\n",
    "### Explanation:\n",
    "- `range(10)`: Generates numbers from 0 to 9.\n",
    "- `range(0, 10)`: Same as `range(10)`, explicitly specifies start as 0.\n",
    "- `range(0, 10, 1)`: Specifies start as 0, stop as 10, and step as 1."
   ]
  },
  {
   "cell_type": "markdown",
   "id": "99776297-96ec-4c9e-a73d-96a8032211c1",
   "metadata": {},
   "source": [
    "## 12. Print numbers 1 to 10 using for and while loops\n",
    "\n",
    "### Code (for loop):\n",
    "```python\n",
    "for i in range(1, 11):\n",
    "    print(i)\n",
    "```\n",
    "\n",
    "### Code (while loop):\n",
    "```python\n",
    "i = 1\n",
    "while i <= 10:\n",
    "    print(i)\n",
    "    i += 1"
   ]
  },
  {
   "cell_type": "markdown",
   "id": "6f3d83c0-5246-40dd-aea4-6a7fa5dcf59d",
   "metadata": {},
   "source": [
    "## 13. Call the `bacon()` function from a module named `spam`\n",
    "\n",
    "### Explanation:\n",
    "After importing the module `spam`, call the function using dot notation.\n",
    "\n",
    "### Code:\n",
    "```python\n",
    "import spam\n",
    "spam.bacon()\n"
   ]
  },
  {
   "cell_type": "code",
   "execution_count": null,
   "id": "fba2fb20-b930-4149-865d-a51349cb8bd0",
   "metadata": {},
   "outputs": [],
   "source": []
  }
 ],
 "metadata": {
  "kernelspec": {
   "display_name": "Python 3 (ipykernel)",
   "language": "python",
   "name": "python3"
  },
  "language_info": {
   "codemirror_mode": {
    "name": "ipython",
    "version": 3
   },
   "file_extension": ".py",
   "mimetype": "text/x-python",
   "name": "python",
   "nbconvert_exporter": "python",
   "pygments_lexer": "ipython3",
   "version": "3.12.4"
  }
 },
 "nbformat": 4,
 "nbformat_minor": 5
}
