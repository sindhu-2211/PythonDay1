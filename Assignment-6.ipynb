{
 "cells": [
  {
   "cell_type": "markdown",
   "id": "30a9e55a-dece-4e98-9e95-14021b7a7577",
   "metadata": {},
   "source": [
    "#### 1. What is the primary goal of Object-Oriented Programming (OOP)?\n",
    "The primary goal of OOP is to model real-world entities and their interactions in a program. It aims to:\n",
    "- Improve code modularity by organizing code into classes and objects.\n",
    "- Enhance code reusability through inheritance and polymorphism.\n",
    "- Promote abstraction by hiding implementation details and exposing only necessary functionalities.\n",
    "- Facilitate maintenance and scalability of complex systems by providing a structured approach.\n",
    "\n",
    "OOP enables programmers to think in terms of \"objects\" that combine both data (attributes) and behavior (methods)."
   ]
  },
  {
   "cell_type": "markdown",
   "id": "6cece0c0-aea2-417a-9509-d137f3b54182",
   "metadata": {},
   "source": [
    "#### 2. What is an object in Python?\n",
    "An object in Python is an instance of a class. It is a data structure that combines both state (data/attributes) and behavior (methods/functions). For example:\n",
    "\n",
    "```python class Dog:\n",
    "    def __init__(self, name):\n",
    "        self.name = name\n",
    "\n",
    "dog1 = Dog(\"Buddy\")  # dog1 is an object of the class Dog.\n",
    "\n",
    "Objects allow us to interact with and manipulate data using defined methods and attributes.\n"
   ]
  },
  {
   "cell_type": "markdown",
   "id": "fb7d2a9d-3f4e-425a-ae61-be4705e3d0b6",
   "metadata": {},
   "source": [
    "#### 3. What is a class in Python?\n",
    "A class in Python is a blueprint for creating objects. It defines a set of attributes and methods that the objects created from the class will have. For example:\n",
    "\n",
    "class Car:\n",
    "    def __init__(self, brand, model):\n",
    "        self.brand = brand\n",
    "        self.model = model\n",
    "\n",
    "Classes provide structure and enable object-oriented design, grouping related data and behavior together.\n"
   ]
  },
  {
   "cell_type": "markdown",
   "id": "b294fa04-47e3-47ef-b596-7db33cb2269f",
   "metadata": {},
   "source": [
    "### 4. What are attributes and methods in a class?\n",
    "- **Attributes**: These are variables associated with a class or object that store data. For example, a \"Car\" class may have attributes like `brand`, `model`, and `color`.\n",
    "- **Methods**: These are functions defined within a class that operate on the attributes or perform specific actions. For example, a \"Car\" class may have methods like `start()` or `drive()`.\n",
    "\n",
    "Attributes represent the state of the object, while methods define its behavior."
   ]
  },
  {
   "cell_type": "markdown",
   "id": "b3af5ff1-537b-44ee-962e-2b7bc1a3f5d0",
   "metadata": {},
   "source": [
    "#### 5. What is the difference between class variables and instance variables in Python?\n",
    "- **Class Variables**: Shared across all instances of the class. They are defined within the class but outside any method.\n",
    "- **Instance Variables**: Unique to each instance. They are defined within methods and are typically prefixed with `self`.\n",
    "\n",
    "Example:\n",
    "class Animal:\n",
    "    species = \"Mammal\"  # Class variable\n",
    "    def __init__(self, name):\n",
    "        self.name = name  # Instance variable\n"
   ]
  },
  {
   "cell_type": "markdown",
   "id": "6fcc2dc3-8ff2-4d69-8806-ac42564c93d0",
   "metadata": {},
   "source": [
    "#### 6. What is the purpose of the self parameter in Python class methods?\n",
    "The `self` parameter represents the instance of the class and is used to access attributes and methods within the class. It ensures that the method operates on the specific instance calling it.\n",
    "\n",
    "Example:\n",
    "class Dog:\n",
    "    def __init__(self, name):\n",
    "        self.name = name\n",
    "\n",
    "d = Dog(\"Buddy\")\n",
    "print(d.name)  # Accessing the instance variable using self."
   ]
  },
  {
   "cell_type": "markdown",
   "id": "0862d8d8-88fc-4fd6-b320-04efe3a43ce6",
   "metadata": {},
   "source": [
    "#### 7. Designing the \"Book\" class for a library management system:\n",
    "class Book:\n",
    "    def __init__(self, title, author, isbn, publication_year, available_copies):\n",
    "        self.title = title\n",
    "        self.author = author\n",
    "        self.isbn = isbn\n",
    "        self.publication_year = publication_year\n",
    "        self.available_copies = available_copies\n",
    "\n",
    " ```python\n",
    "   def check_out(self):\n",
    "        if self.available_copies > 0:\n",
    "            self.available_copies -= 1\n",
    "        else:\n",
    "            print(\"No copies available.\")\n",
    "\n",
    "    def return_book(self):\n",
    "        self.available_copies += 1\n",
    "\n",
    "    def display_book_info(self):\n",
    "        print(f\"Title: {self.title}\\nAuthor: {self.author}\\nISBN: {self.isbn}\\nYear: {self.publication_year}\\nAvailable Copies: {self.available_copies}\")"
   ]
  },
  {
   "cell_type": "markdown",
   "id": "15936f72-f41f-4c90-97fe-8b947964aac2",
   "metadata": {},
   "source": [
    "### 8. Designing the \"Ticket\" class for a ticket booking system:\n",
    "class Ticket:\n",
    "    def __init__(self, ticket_id, event_name, event_date, venue, seat_number, price, is_reserved=False):\n",
    "        self.ticket_id = ticket_id\n",
    "        self.event_name = event_name\n",
    "        self.event_date = event_date\n",
    "        self.venue = venue\n",
    "        self.seat_number = seat_number\n",
    "        self.price = price\n",
    "        self.is_reserved = is_reserved\n",
    "\n",
    "    def reserve_ticket(self):\n",
    "        if not self.is_reserved:\n",
    "            self.is_reserved = True\n",
    "        else:\n",
    "            print(\"Ticket already reserved.\")\n",
    "\n",
    "    def cancel_reservation(self):\n",
    "        if self.is_reserved:\n",
    "            self.is_reserved = False\n",
    "        else:\n",
    "            print(\"Ticket is not reserved.\")\n",
    "\n",
    "    def display_ticket_info(self):\n",
    "        print(f\"Ticket ID: {self.ticket_id}\\nEvent: {self.event_name}\\nDate: {self.event_date}\\nVenue: {self.venue}\\nSeat: {self.seat_number}\\nPrice: ${self.price}\\nReserved: {self.is_reserved}\")"
   ]
  },
  {
   "cell_type": "markdown",
   "id": "99d5bbaf-f5b3-4908-b75d-5e7778d4ade3",
   "metadata": {},
   "source": [
    "#### 9. Designing the \"ShoppingCart\" class for an e-commerce website:\n",
    "class ShoppingCart:\n",
    "    def __init__(self):\n",
    "        self.items = []\n",
    "\n",
    "    def add_item(self, item):\n",
    "        self.items.append(item)\n",
    "\n",
    "    def remove_item(self, item):\n",
    "        if item in self.items:\n",
    "            self.items.remove(item)\n",
    "        else:\n",
    "            print(\"Item not in cart.\")\n",
    "\n",
    "    def view_cart(self):\n",
    "        if self.items:\n",
    "            print(\"Items in cart:\", self.items)\n",
    "        else:\n",
    "            print(\"Cart is empty.\")\n",
    "\n",
    "    def clear_cart(self):\n",
    "        self.items = []\n"
   ]
  },
  {
   "cell_type": "markdown",
   "id": "807c59a6-0a0d-41e3-b518-ec665829172d",
   "metadata": {},
   "source": [
    "#### 10. Designing the \"Student\" class for a school management system:\n",
    "class Student:\n",
    "    def __init__(self, name, age, grade, student_id):\n",
    "        self.name = name\n",
    "        self.age = age\n",
    "        self.grade = grade\n",
    "        self.student_id = student_id\n",
    "        self.attendance = {}\n",
    "\n",
    "    def update_attendance(self, date, status):\n",
    "        self.attendance[date] = status\n",
    "\n",
    "    def get_attendance(self):\n",
    "        return self.attendance\n",
    "\n",
    "    def get_average_attendance(self):\n",
    "        total_days = len(self.attendance)\n",
    "        if total_days == 0:\n",
    "            return 0\n",
    "        present_days = sum(1 for status in self.attendance.values() if status.lower() == 'present')\n",
    "        return (present_days / total_days) * 100"
   ]
  },
  {
   "cell_type": "code",
   "execution_count": null,
   "id": "9dd2efbc-b890-41e2-a926-1e3fe2fd2fb0",
   "metadata": {},
   "outputs": [],
   "source": []
  }
 ],
 "metadata": {
  "kernelspec": {
   "display_name": "Python 3 (ipykernel)",
   "language": "python",
   "name": "python3"
  },
  "language_info": {
   "codemirror_mode": {
    "name": "ipython",
    "version": 3
   },
   "file_extension": ".py",
   "mimetype": "text/x-python",
   "name": "python",
   "nbconvert_exporter": "python",
   "pygments_lexer": "ipython3",
   "version": "3.12.4"
  }
 },
 "nbformat": 4,
 "nbformat_minor": 5
}
