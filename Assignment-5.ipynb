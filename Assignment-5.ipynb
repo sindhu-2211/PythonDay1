{
 "cells": [
  {
   "cell_type": "markdown",
   "id": "0713a53f-744d-4c31-83a6-8502a749bb10",
   "metadata": {},
   "source": [
    "#### 1. What does an empty dictionary's code look like?\n",
    "An empty dictionary is represented by a pair of curly braces:\n",
    "{}  \n",
    "This creates a dictionary with no key-value pairs."
   ]
  },
  {
   "cell_type": "markdown",
   "id": "12bf7297-0bde-4e92-9905-747d6e14bdf8",
   "metadata": {},
   "source": [
    "#### 2. What is the value of a dictionary value with the key 'foo' and the value 42?\n",
    "The dictionary would look like this:\n",
    "\n",
    "{'foo': 42}  \n",
    "The value associated with the key 'foo' is **42**."
   ]
  },
  {
   "cell_type": "markdown",
   "id": "18edba9f-7567-4366-a9a4-90f83b6b5ef6",
   "metadata": {},
   "source": [
    "#### 3. What is the most significant distinction between a dictionary and a list?\n",
    "- **Dictionary**: Stores data as key-value pairs and is unordered before Python 3.7. Keys must be unique and immutable.\n",
    "- **List**: Stores data as ordered elements and allows duplicate and mutable items.\n",
    "\n",
    "Example:\n",
    "- Dictionary: {'name': 'Alice', 'age': 25}\n",
    "- List: ['Alice', 25]\n"
   ]
  },
  {
   "cell_type": "markdown",
   "id": "f195952a-2651-4cab-aa28-e99652d5264b",
   "metadata": {},
   "source": [
    "#### 4. What happens if you try to access spam['foo'] if spam is {'bar': 100}?\n",
    "An attempt to access spam['foo'] will raise a **KeyError** because the key 'foo' does not exist in the dictionary.\n",
    "\n",
    "Example:\n",
    "spam = {'bar': 100}  \n",
    "print(spam['foo'])  # Raises KeyError: 'foo'"
   ]
  },
  {
   "cell_type": "markdown",
   "id": "a5cab43d-13ee-4905-969a-8eeb51594a98",
   "metadata": {},
   "source": [
    "#### 5. If a dictionary is stored in spam, what is the difference between the expressions 'cat' in spam and 'cat' in spam.keys()?\n",
    "- **'cat' in spam**: Checks if the key 'cat' exists in the dictionary.\n",
    "- **'cat' in spam.keys()**: Also checks if the key 'cat' exists, but explicitly looks in the dictionary's keys.\n",
    "\n",
    "Both expressions are functionally identical, but the first is more concise."
   ]
  },
  {
   "cell_type": "markdown",
   "id": "59a75b81-c3ca-4778-9fd1-d12c3c1a0e13",
   "metadata": {},
   "source": [
    "#### 6. If a dictionary is stored in spam, what is the difference between the expressions 'cat' in spam and 'cat' in spam.values()?\n",
    "- **'cat' in spam**: Checks if 'cat' is a key in the dictionary.\n",
    "- **'cat' in spam.values()**: Checks if 'cat' is a value in the dictionary.\n",
    "\n",
    "Example:\n",
    "spam = {'animal': 'cat'}  \n",
    "'cat' in spam  # False  \n",
    "'cat' in spam.values()  # True"
   ]
  },
  {
   "cell_type": "markdown",
   "id": "407eb05c-c21e-4db6-bcc9-3eb48e96d660",
   "metadata": {},
   "source": [
    "#### 7. What is a shortcut for the following code?\n",
    "if 'color' not in spam:  \n",
    "    spam['color'] = 'black'\n",
    "\n",
    "The shortcut is to use the **setdefault** method:\n",
    "spam.setdefault('color', 'black')\n",
    "\n",
    "This ensures the key 'color' has the value 'black' if it does not already exist."
   ]
  },
  {
   "cell_type": "markdown",
   "id": "97920c00-f39f-4a5f-9a64-79a4c8ee09fe",
   "metadata": {},
   "source": [
    "#### 8. How do you \"pretty print\" dictionary values using which module and function?\n",
    "You can \"pretty print\" dictionary values using the **pprint** module and the **pprint()** function.\n",
    "\n",
    "Example:\n",
    "```python\n",
    "import pprint\n",
    "spam = {'name': 'Alice', 'age': 25, 'hobbies': ['reading', 'gaming']}\n",
    "pprint.pprint(spam)"
   ]
  }
 ],
 "metadata": {
  "kernelspec": {
   "display_name": "Python 3 (ipykernel)",
   "language": "python",
   "name": "python3"
  },
  "language_info": {
   "codemirror_mode": {
    "name": "ipython",
    "version": 3
   },
   "file_extension": ".py",
   "mimetype": "text/x-python",
   "name": "python",
   "nbconvert_exporter": "python",
   "pygments_lexer": "ipython3",
   "version": "3.12.4"
  }
 },
 "nbformat": 4,
 "nbformat_minor": 5
}
